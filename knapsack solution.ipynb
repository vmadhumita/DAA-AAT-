{
  "nbformat": 4,
  "nbformat_minor": 0,
  "metadata": {
    "colab": {
      "provenance": []
    },
    "kernelspec": {
      "name": "python3",
      "display_name": "Python 3"
    },
    "language_info": {
      "name": "python"
    }
  },
  "cells": [
    {
      "cell_type": "code",
      "execution_count": null,
      "metadata": {
        "id": "WxUAsYrVJvYE"
      },
      "outputs": [],
      "source": [
        "#1\n",
        "def unboundedKnapsack(k, arr):\n",
        "    dp = [0] * (k + 1)\n",
        "\n",
        "    for value in arr:\n",
        "        for i in range(value, k + 1):\n",
        "            dp[i] = max(dp[i], dp[i - value] + value)\n",
        "\n",
        "    return dp[k]\n",
        "\n",
        "if __name__ == \"__main__\":\n",
        "    import sys\n",
        "    input = sys.stdin.read\n",
        "    data = input().split()\n",
        "\n",
        "    idx = 0\n",
        "    t = int(data[idx])\n",
        "    idx += 1\n",
        "    results = []\n",
        "\n",
        "    for _ in range(t):\n",
        "        n = int(data[idx])\n",
        "        k = int(data[idx + 1])\n",
        "        idx += 2\n",
        "        arr = list(map(int, data[idx:idx + n]))\n",
        "        idx += n\n",
        "        results.append(unboundedKnapsack(k, arr))\n",
        "\n",
        "    for result in results:\n",
        "        print(result)"
      ]
    }
  ]
}