{
  "nbformat": 4,
  "nbformat_minor": 0,
  "metadata": {
    "colab": {
      "provenance": []
    },
    "kernelspec": {
      "name": "python3",
      "display_name": "Python 3"
    },
    "language_info": {
      "name": "python"
    }
  },
  "cells": [
    {
      "cell_type": "code",
      "execution_count": null,
      "metadata": {
        "id": "wv4pRfLhKZ_z"
      },
      "outputs": [],
      "source": [
        "#3\n",
        "size = int(input())\n",
        "array = input().split(\" \")\n",
        "arr = ['None'] * size\n",
        "for i in range(size):\n",
        "    arr[i] = int(array[i])\n",
        "p = arr[0]\n",
        "less = [ ]\n",
        "more = [ ]\n",
        "for i in range(size):\n",
        "    if arr[i] < p:\n",
        "        less.append(arr[i])\n",
        "    else:\n",
        "        more.append(arr[i])\n",
        "for j in range(len(less)):\n",
        "    print(less[j], end = \" \")\n",
        "for k in range(len(more)):\n",
        "    print(more[k], end = \" \")\n",
        ""
      ]
    }
  ]
}