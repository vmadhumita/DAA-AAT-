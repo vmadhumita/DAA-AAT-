{
  "nbformat": 4,
  "nbformat_minor": 0,
  "metadata": {
    "colab": {
      "provenance": []
    },
    "kernelspec": {
      "name": "python3",
      "display_name": "Python 3"
    },
    "language_info": {
      "name": "python"
    }
  },
  "cells": [
    {
      "cell_type": "code",
      "execution_count": null,
      "metadata": {
        "id": "DknnYpXKKkIP"
      },
      "outputs": [],
      "source": [
        "#4\n",
        "# Read the number of test cases\n",
        "t = int(input())\n",
        "\n",
        "# Process each test case\n",
        "for _ in range(t):\n",
        "    s = input()\n",
        "    # Calculate the number of unique characters\n",
        "    unique_characters = len(set(s))\n",
        "    # Print the result\n",
        "    print(unique_characters)\n"
      ]
    }
  ]
}