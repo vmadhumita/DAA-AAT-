{
  "nbformat": 4,
  "nbformat_minor": 0,
  "metadata": {
    "colab": {
      "provenance": []
    },
    "kernelspec": {
      "name": "python3",
      "display_name": "Python 3"
    },
    "language_info": {
      "name": "python"
    }
  },
  "cells": [
    {
      "cell_type": "code",
      "execution_count": null,
      "metadata": {
        "id": "_3tXZ22-KA_W"
      },
      "outputs": [],
      "source": [
        "#2\n",
        "from collections import defaultdict\n",
        "\n",
        "\n",
        "def maximumPeople(towns, cloud_start, cloud_end):\n",
        "    towns = sorted(towns)\n",
        "    cloud_start = sorted(cloud_start)\n",
        "    cloud_end = sorted(cloud_end)\n",
        "\n",
        "    cloud_start_i = 0\n",
        "    cloud_end_i = 0\n",
        "    clouds = set()\n",
        "\n",
        "    d = defaultdict(int)\n",
        "    free = 0\n",
        "    for town_i in range(len(towns)):\n",
        "        town_x = towns[town_i][0]\n",
        "        while cloud_start_i < len(cloud_start) and cloud_start[cloud_start_i][0] <= town_x:\n",
        "            clouds.add(cloud_start[cloud_start_i][1])\n",
        "            cloud_start_i += 1\n",
        "        while cloud_end_i < len(cloud_end) and cloud_end[cloud_end_i][0] < town_x:\n",
        "            clouds.remove(cloud_end[cloud_end_i][1])\n",
        "            cloud_end_i += 1\n",
        "        if len(clouds) == 1:\n",
        "            towns[town_i][2] = list(clouds)[0]\n",
        "            d[list(clouds)[0]] += towns[town_i][1]\n",
        "        elif len(clouds) == 0:\n",
        "            free += towns[town_i][1]\n",
        "\n",
        "    return max(d.values(), default=0) + free\n",
        "\n",
        "\n",
        "def main():\n",
        "    n = int(input().strip())\n",
        "    p = [int(x) for x in input().strip().split()]\n",
        "    x = [int(x) for x in input().strip().split()]\n",
        "    towns = [[xi, pi, -1] for xi, pi in zip(x, p)]\n",
        "    m = int(input().strip())\n",
        "    y = [int(x) for x in input().strip().split()]\n",
        "    r = [int(x) for x in input().strip().split()]\n",
        "    cloud_start = [[y[i]-r[i], i] for i in range(m)]\n",
        "    cloud_end = [[y[i]+r[i], i] for i in range(m)]\n",
        "    result = maximumPeople(towns, cloud_start, cloud_end)\n",
        "    print(result)\n",
        "\n",
        "if __name__ == \"__main__\":\n",
        "    main()\n",
        ""
      ]
    }
  ]
}